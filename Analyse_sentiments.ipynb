{
  "nbformat": 4,
  "nbformat_minor": 0,
  "metadata": {
    "colab": {
      "name": "Analyse_sentiments.ipynb",
      "provenance": []
    },
    "kernelspec": {
      "name": "python3",
      "display_name": "Python 3"
    },
    "language_info": {
      "name": "python"
    }
  },
  "cells": [
    {
      "cell_type": "markdown",
      "metadata": {
        "id": "uzSoMWR3Wlcy"
      },
      "source": [
        "#**Analyse des sentiments**\n",
        "\n",
        "examiner des données rares et travailler avec les représentations vectorielles continues à l'aide de données textuelles issues de critiques de films (provenant de l'ensemble de données IMDB ACL 2011). \n",
        "\n",
        "On va effectuer, sur ces données, l'entraînement d'un modèle d'analyse des sentiments qui prédit si une critique est globalement favorable (libellé 1) ou défavorable (libellé 0).\n",
        "\n",
        "\n",
        "Pour ce faire, on va transformer la valeur de chaîne terms en vecteurs de caractéristiques en utilisant un vocabulaire, c'est-à-dire une liste de termes que vous vous attendez à trouver dans nos données.\n",
        "\n",
        "Pour les besoins de cet exercice, nous avons créé un vocabulaire réduit qui porte sur un ensemble limité de termes. Il s'est avéré que la plupart de ces termes indiquaient clairement un fort sentiment favorable ou défavorable. D'autres cependant ont simplement été ajoutés, car ils étaient intéressants.\n",
        "\n",
        "Chaque terme du vocabulaire est associé à une coordonnée du vecteur de caractéristiques. Pour convertir la valeur de chaîne terms d'un exemple dans ce format de vecteur, vous allez coder comme suit :\n",
        "\n",
        "chaque coordonnée reçoit la valeur 0 si le terme de vocabulaire ne figure pas dans l'exemple de chaîne, et la valeur 1 dans le cas contraire. Les termes qui ne figurent pas dans le vocabulaire sont rejetés."
      ]
    },
    {
      "cell_type": "code",
      "metadata": {
        "colab": {
          "base_uri": "https://localhost:8080/"
        },
        "id": "MTKwVz2QaHmc",
        "outputId": "a778f058-1d47-4afc-96bc-3bd7adeaceac"
      },
      "source": [
        "# Chargement des données\n",
        "\n",
        "from __future__ import print_function\n",
        "\n",
        "import collections\n",
        "import io\n",
        "import math\n",
        "\n",
        "import matplotlib.pyplot as plt\n",
        "import numpy as np\n",
        "import pandas as pd\n",
        "%tensorflow_version 1.x\n",
        "import tensorflow as tf\n",
        "from IPython import display\n",
        "from sklearn import metrics\n",
        "\n",
        "\n",
        "# Eviter de print tous les warnings et les erreurs \n",
        "import logging\n",
        "logging.getLogger(\"tensorflow\").setLevel(logging.ERROR)\n",
        "\n",
        "# Option d'affichage des données contenues dans le dataframe \n",
        "pd.set_option('display.max_rows', 15)\n",
        "pd.set_option('display.max_columns', 15)\n",
        "pd.set_option('display.width', 1000)\n",
        "\n",
        "train_url = 'https://download.mlcc.google.com/mledu-datasets/sparse-data-embedding/train.tfrecord'\n",
        "train_path = tf.keras.utils.get_file(train_url.split('/')[-1], train_url)\n",
        "test_url = 'https://download.mlcc.google.com/mledu-datasets/sparse-data-embedding/test.tfrecord'\n",
        "test_path = tf.keras.utils.get_file(test_url.split('/')[-1], test_url)\n",
        "\n",
        "print('Les datasets sont déjà créés, formatés et prêt à l\\'emploi')"
      ],
      "execution_count": 1,
      "outputs": [
        {
          "output_type": "stream",
          "text": [
            "TensorFlow 1.x selected.\n",
            "Downloading data from https://download.mlcc.google.com/mledu-datasets/sparse-data-embedding/train.tfrecord\n",
            "41631744/41625533 [==============================] - 0s 0us/step\n",
            "Downloading data from https://download.mlcc.google.com/mledu-datasets/sparse-data-embedding/test.tfrecord\n",
            "40689664/40688441 [==============================] - 0s 0us/step\n",
            "Les datasets sont déjà créés, formatés et prêt à l'emploi\n"
          ],
          "name": "stdout"
        }
      ]
    },
    {
      "cell_type": "markdown",
      "metadata": {
        "id": "KHMdJd75d6zh"
      },
      "source": [
        "On va commencer par créer le pipeline d'entrée pour importer les données dans un modèle TensorFlow.\n",
        "\n",
        "On va utiliser la fonction suivante pour analyser les données de test et d'apprentissage (qui se trouvent au format TFRecord), et renvoyer un dictionnaire des caractéristiques et les libellés correspondants."
      ]
    },
    {
      "cell_type": "code",
      "metadata": {
        "id": "W91mtmeOeEHU"
      },
      "source": [
        "def _parse_function(record):\n",
        "  \n",
        "  \"\"\"Son objectifs et d'extraire les features et les labels\n",
        "  \n",
        "  Args:\n",
        "    Son argument est un lien vers un fichier type TFRecord file    \n",
        "  Retour:\n",
        "    Elle renvoie le couple: `(labels, features)`:\n",
        "      features: Un dictionnaire de tensors( matrices de données ) representant les features \n",
        "      labels: un tensor( matrices de données ) representant les labels correspondant\n",
        "  \"\"\"\n",
        "  features = {\n",
        "    \"terms\": tf.VarLenFeature(dtype=tf.string), # terms are strings of varying lengths\n",
        "    \"labels\": tf.FixedLenFeature(shape=[1], dtype=tf.float32) # labels are 0 or 1\n",
        "  }\n",
        "\n",
        "  \n",
        "  \n",
        "  parsed_features = tf.parse_single_example(record, features)\n",
        "\n",
        "  # print(parsed_features)\n",
        "  \n",
        "  terms = parsed_features['terms'].values\n",
        "  labels = parsed_features['labels']\n",
        "\n",
        "\n",
        "  return  {'terms':terms}, labels\n",
        "\n",
        "\n"
      ],
      "execution_count": 2,
      "outputs": []
    },
    {
      "cell_type": "markdown",
      "metadata": {
        "id": "5dUkuA-emaDW"
      },
      "source": [
        "Pour vérifier que cela fonctionne comme prévu, on construit un ensemble TFRecordDataset pour les données d'apprentissage, et on associe ces dernières aux caractéristiques et aux libellés à l'aide de la fonction ci-dessus."
      ]
    },
    {
      "cell_type": "code",
      "metadata": {
        "colab": {
          "base_uri": "https://localhost:8080/"
        },
        "id": "j7tiXqA8miOF",
        "outputId": "cb573139-a255-4c66-e76d-8f649182109a"
      },
      "source": [
        "# Pour l'exemple on va creer un dataset en chargeant les données \n",
        "ds = tf.data.TFRecordDataset(train_path)\n",
        "\n",
        "# On map les features et labels avec la fonction parse.\n",
        "# This transformation applies the mapped function to each element of this dataset, and returns a new dataset containing the transformed elements,\n",
        "#  in the same order as they appeared in the input. the mapped function can be used to change both the values and the structure of a dataset's elements.\n",
        "#  For example, adding 1 to each element, or projecting a subset of element components.\n",
        "\n",
        "ds = ds.map(_parse_function)\n",
        "\n",
        "# On vient d'appliquer la fonction sur toutes les données contenues dans le dataset \n",
        "ds"
      ],
      "execution_count": 3,
      "outputs": [
        {
          "output_type": "stream",
          "text": [
            "WARNING: Entity <function _parse_function at 0x7fa8733ab3b0> could not be transformed and will be executed as-is. Please report this to the AutoGraph team. When filing the bug, set the verbosity to 10 (on Linux, `export AUTOGRAPH_VERBOSITY=10`) and attach the full output. Cause: module 'gast' has no attribute 'Num'\n"
          ],
          "name": "stdout"
        },
        {
          "output_type": "execute_result",
          "data": {
            "text/plain": [
              "<DatasetV1Adapter shapes: ({terms: (?,)}, (1,)), types: ({terms: tf.string}, tf.float32)>"
            ]
          },
          "metadata": {
            "tags": []
          },
          "execution_count": 3
        }
      ]
    },
    {
      "cell_type": "markdown",
      "metadata": {
        "id": "t_ETjih3v8r1"
      },
      "source": [
        "Récupérons le premier exemple de l'ensemble de données d'apprentissage.\n",
        "\n"
      ]
    },
    {
      "cell_type": "code",
      "metadata": {
        "colab": {
          "base_uri": "https://localhost:8080/"
        },
        "id": "ntEo7JM90qNf",
        "outputId": "69e89dd9-67d1-406f-be7c-5e13dc891894"
      },
      "source": [
        "n = ds.make_one_shot_iterator().get_next()\n",
        "\n",
        "\"\"\"\n",
        "  A session allows to execute graphs or part of graphs.\n",
        "  It allocates resources (on one or more machines) for that and\n",
        "  holds the actual values of intermediate results and variables.\n",
        "\"\"\"\n",
        "\n",
        "sess = tf.Session()\n",
        "sess.run(n)\n",
        "\n",
        "# On voit alors "
      ],
      "execution_count": 4,
      "outputs": [
        {
          "output_type": "execute_result",
          "data": {
            "text/plain": [
              "({'terms': array([b'but', b'it', b'does', b'have', b'some', b'good', b'action',\n",
              "         b'and', b'a', b'plot', b'that', b'is', b'somewhat', b'interesting',\n",
              "         b'.', b'nevsky', b'acts', b'like', b'a', b'body', b'builder',\n",
              "         b'and', b'he', b'isn', b\"'\", b't', b'all', b'that', b'attractive',\n",
              "         b',', b'in', b'fact', b',', b'imo', b',', b'he', b'is', b'ugly',\n",
              "         b'.', b'(', b'his', b'acting', b'skills', b'lack', b'everything',\n",
              "         b'!', b')', b'sascha', b'is', b'played', b'very', b'well', b'by',\n",
              "         b'joanna', b'pacula', b',', b'but', b'she', b'needed', b'more',\n",
              "         b'lines', b'than', b'she', b'was', b'given', b',', b'her',\n",
              "         b'character', b'needed', b'to', b'be', b'developed', b'.',\n",
              "         b'there', b'are', b'way', b'too', b'many', b'men', b'in', b'this',\n",
              "         b'story', b',', b'there', b'is', b'zero', b'romance', b',', b'too',\n",
              "         b'much', b'action', b',', b'and', b'way', b'too', b'dumb', b'of',\n",
              "         b'an', b'ending', b'.', b'it', b'is', b'very', b'violent', b'.',\n",
              "         b'i', b'did', b'however', b'love', b'the', b'scenery', b',',\n",
              "         b'this', b'movie', b'takes', b'you', b'all', b'over', b'the',\n",
              "         b'world', b',', b'and', b'that', b'is', b'a', b'bonus', b'.', b'i',\n",
              "         b'also', b'liked', b'how', b'it', b'had', b'some', b'stuff',\n",
              "         b'about', b'the', b'mafia', b'in', b'it', b',', b'not', b'too',\n",
              "         b'much', b'or', b'too', b'little', b',', b'but', b'enough',\n",
              "         b'that', b'it', b'got', b'my', b'attention', b'.', b'the',\n",
              "         b'actors', b'needed', b'to', b'be', b'more', b'handsome', b'.',\n",
              "         b'.', b'.', b'the', b'biggest', b'problem', b'i', b'had', b'was',\n",
              "         b'that', b'nevsky', b'was', b'just', b'too', b'normal', b',',\n",
              "         b'not', b'sexy', b'enough', b'.', b'i', b'think', b'for', b'most',\n",
              "         b'guys', b',', b'sascha', b'will', b'be', b'hot', b'enough', b',',\n",
              "         b'but', b'for', b'us', b'ladies', b'that', b'are', b'fans', b'of',\n",
              "         b'action', b',', b'nevsky', b'just', b'doesn', b\"'\", b't', b'cut',\n",
              "         b'it', b'.', b'overall', b',', b'this', b'movie', b'was', b'fine',\n",
              "         b',', b'i', b'didn', b\"'\", b't', b'love', b'it', b'nor', b'did',\n",
              "         b'i', b'hate', b'it', b',', b'just', b'found', b'it', b'to', b'be',\n",
              "         b'another', b'normal', b'action', b'flick', b'.'], dtype=object)},\n",
              " array([0.], dtype=float32))"
            ]
          },
          "metadata": {
            "tags": []
          },
          "execution_count": 4
        }
      ]
    },
    {
      "cell_type": "markdown",
      "metadata": {
        "id": "tDfOqFp34Wyw"
      },
      "source": [
        "On va maintenant creer une fonction qui va permettre de parser les données et de les diviser en features et labels\n"
      ]
    },
    {
      "cell_type": "code",
      "metadata": {
        "id": "3T3CXNtl7XJC"
      },
      "source": [
        "def _input_fn(input_filenames, num_epochs=None, shuffle=True):\n",
        "  \n",
        "  # Comme l'exemple d'avant; on crée un dataset et on map les features et labels.\n",
        "  ds = tf.data.TFRecordDataset(input_filenames)\n",
        "  # on applique la fonction à l'ensemble des donneés \n",
        "  ds = ds.map(_parse_function)\n",
        "\n",
        "  if shuffle:\n",
        "    ds = ds.shuffle(10000)\n",
        "\n",
        "  # Our feature data is variable-length, so we pad and batch\n",
        "  # each field of the dataset structure to whatever size is necessary.     \n",
        "  ds = ds.padded_batch(25, ds.output_shapes)\n",
        "  \n",
        "  ds = ds.repeat(num_epochs)\n",
        "\n",
        "  \n",
        "  # Renvoie le bacth de données suivant ( batch features , batch labels)\n",
        "  features, labels = ds.make_one_shot_iterator().get_next()\n",
        "  return features, labels\n",
        "\n",
        "  "
      ],
      "execution_count": 5,
      "outputs": []
    },
    {
      "cell_type": "markdown",
      "metadata": {
        "id": "MMoCouWbaUAJ"
      },
      "source": [
        "On  commence par 50 termes informatifs.\n",
        "\n",
        "Le code suivant construit la colonne de caractéristiques pour ces termes. La fonction categorical_column_with_vocabulary_list crée une colonne de caractéristiques avec la mise en correspondance chaîne/vecteur de caractéristiques.\n"
      ]
    },
    {
      "cell_type": "code",
      "metadata": {
        "id": "aB1GWBRPaOGQ"
      },
      "source": [
        "# 50 informative terms that compose our model vocabulary. \n",
        "informative_terms = (\"bad\", \"great\", \"best\", \"worst\", \"fun\", \"beautiful\",\n",
        "                     \"excellent\", \"poor\", \"boring\", \"awful\", \"terrible\",\n",
        "                     \"definitely\", \"perfect\", \"liked\", \"worse\", \"waste\",\n",
        "                     \"entertaining\", \"loved\", \"unfortunately\", \"amazing\",\n",
        "                     \"enjoyed\", \"favorite\", \"horrible\", \"brilliant\", \"highly\",\n",
        "                     \"simple\", \"annoying\", \"today\", \"hilarious\", \"enjoyable\",\n",
        "                     \"dull\", \"fantastic\", \"poorly\", \"fails\", \"disappointing\",\n",
        "                     \"disappointment\", \"not\", \"him\", \"her\", \"good\", \"time\",\n",
        "                     \"?\", \".\", \"!\", \"movie\", \"film\", \"action\", \"comedy\",\n",
        "                     \"drama\", \"family\")\n",
        "\n",
        "terms_feature_column = tf.feature_column.categorical_column_with_vocabulary_list(key=\"terms\", vocabulary_list=informative_terms)"
      ],
      "execution_count": 6,
      "outputs": []
    },
    {
      "cell_type": "markdown",
      "metadata": {
        "id": "A7dY17QRTESb"
      },
      "source": [
        "On va maintenant définir le modèle de réseau de neurones et l'entrainer "
      ]
    },
    {
      "cell_type": "code",
      "metadata": {
        "colab": {
          "base_uri": "https://localhost:8080/"
        },
        "id": "g4JaMA6hTJ7S",
        "outputId": "449921ea-e302-434c-a559-3c9459f53d9e"
      },
      "source": [
        "#Creation du modèle !\n",
        "my_optimizer = tf.train.AdagradOptimizer(learning_rate=0.1)\n",
        "my_optimizer = tf.contrib.estimator.clip_gradients_by_norm(my_optimizer, 5.0)\n",
        "\n",
        "classifier = tf.estimator.DNNClassifier(                                      \n",
        "  feature_columns=[tf.feature_column.indicator_column(terms_feature_column)], \n",
        "  hidden_units=[20,20],                                                       \n",
        "  optimizer=my_optimizer,                                                     \n",
        ")                                                                             \n",
        "\n",
        "\n",
        "try:\n",
        "  # Pas de boucle d'apprentissage cette fois ci; On appelle la methode train sur le modèle une seule fois \n",
        "\n",
        "  classifier.train(\n",
        "    input_fn=lambda: _input_fn([train_path]),\n",
        "    steps=1000)\n",
        "\n",
        "  # On evalue le modèle avec les données d'entrainement/\n",
        "  # PAs de séparation des données avec les données de validation et données de test\n",
        "  evaluation_metrics = classifier.evaluate(\n",
        "    input_fn=lambda: _input_fn([train_path]),\n",
        "    steps=1)\n",
        "  \n",
        "  print(\"Training set metrics:\")\n",
        "  for m in evaluation_metrics:\n",
        "    print(m, evaluation_metrics[m])\n",
        "  print(\"---\")\n",
        "\n",
        "  # On evalue le modèle avec les données de test non connues par le modèle\n",
        "  evaluation_metrics = classifier.evaluate(\n",
        "    input_fn=lambda: _input_fn([test_path]),\n",
        "    steps=1)\n",
        "\n",
        "  print(\"Test set metrics:\")\n",
        "  for m in evaluation_metrics:\n",
        "    print(m, evaluation_metrics[m])\n",
        "  print(\"---\")\n",
        "\n",
        "except ValueError as err:\n",
        "  print(err)"
      ],
      "execution_count": 7,
      "outputs": [
        {
          "output_type": "stream",
          "text": [
            "WARNING: Entity <bound method _DNNModel.call of <tensorflow_estimator.python.estimator.canned.dnn._DNNModel object at 0x7fa86d849110>> could not be transformed and will be executed as-is. Please report this to the AutoGraph team. When filing the bug, set the verbosity to 10 (on Linux, `export AUTOGRAPH_VERBOSITY=10`) and attach the full output. Cause: module 'gast' has no attribute 'Num'\n",
            "WARNING: Entity <bound method _DNNModel.call of <tensorflow_estimator.python.estimator.canned.dnn._DNNModel object at 0x7fa864530c10>> could not be transformed and will be executed as-is. Please report this to the AutoGraph team. When filing the bug, set the verbosity to 10 (on Linux, `export AUTOGRAPH_VERBOSITY=10`) and attach the full output. Cause: module 'gast' has no attribute 'Num'\n",
            "Training set metrics:\n",
            "accuracy 0.84\n",
            "accuracy_baseline 0.6\n",
            "auc 0.9066666\n",
            "auc_precision_recall 0.92889965\n",
            "average_loss 0.3753662\n",
            "label/mean 0.6\n",
            "loss 9.384155\n",
            "precision 0.8666667\n",
            "prediction/mean 0.5737347\n",
            "recall 0.8666667\n",
            "global_step 1000\n",
            "---\n",
            "WARNING: Entity <bound method _DNNModel.call of <tensorflow_estimator.python.estimator.canned.dnn._DNNModel object at 0x7fa8652f5150>> could not be transformed and will be executed as-is. Please report this to the AutoGraph team. When filing the bug, set the verbosity to 10 (on Linux, `export AUTOGRAPH_VERBOSITY=10`) and attach the full output. Cause: module 'gast' has no attribute 'Num'\n",
            "Test set metrics:\n",
            "accuracy 0.68\n",
            "accuracy_baseline 0.68\n",
            "auc 0.7720587\n",
            "auc_precision_recall 0.51754194\n",
            "average_loss 0.6340933\n",
            "label/mean 0.32\n",
            "loss 15.852332\n",
            "precision 0.5\n",
            "prediction/mean 0.4346596\n",
            "recall 0.75\n",
            "global_step 1000\n",
            "---\n"
          ],
          "name": "stdout"
        }
      ]
    },
    {
      "cell_type": "markdown",
      "metadata": {
        "id": "R6SyfHNubD81"
      },
      "source": [
        "Dans le cadre de cette tâche, on va mettre en œuvre un modèle DNN à l'aide d'une colonne de représentations vectorielles continues. Une colonne de ce type accepte des données rares en guise d'entrée et renvoie un vecteur dense de plus faible dimension en sortie.\n",
        "\n",
        "REMARQUE : En règle générale, une colonne de représentations vectorielles continues constitue l'option la plus efficace du point de vue de l'utilisation des ressources pour entraîner un modèle sur des données rares"
      ]
    },
    {
      "cell_type": "code",
      "metadata": {
        "colab": {
          "base_uri": "https://localhost:8080/"
        },
        "id": "gcA5ftC8bQ1G",
        "outputId": "a717bb95-34c6-4666-f31f-8af64978cfa5"
      },
      "source": [
        "#Nouveau code avec representation vectorielle continue \n",
        "\n",
        "# tf.feature_column.embedding_column()\n",
        "# Use this when your inputs are sparse, but you want to convert them to a dense representation (e.g., to feed to a DNN).\n",
        "# Inputs must be a CategoricalColumn created by any of the categorical_column_* function.\n",
        "\n",
        "# Supposons qu'au lieu de n'avoir que quelques chaînes possibles, nous avons des milliers (ou plus) de valeurs par catégorie.\n",
        "# Pour un certain nombre de raisons, à mesure que le nombre de catégories augmente, il devient impossible d'entraîner\n",
        "# un réseau de neurones à l'aide d'encodages one-hot. Nous pouvons utiliser une colonne d'intégration pour surmonter\n",
        "# cette limitation. Au lieu de représenter les données comme un vecteur unique de plusieurs dimensions,\n",
        "# une colonne d'intégration représente ces données comme un vecteur dense de dimension inférieure\n",
        "# dans lequel chaque cellule peut contenir n'importe quel nombre, pas seulement 0 ou 1.\n",
        "# La taille de l'incorporation ( 8, dans l'exemple ci-dessous) est un paramètre qui doit être réglé.\n",
        "\n",
        "\n",
        "\n",
        "terms_embedding_column = tf.feature_column.embedding_column(terms_feature_column, dimension=2)\n",
        "\n",
        "\n",
        "feature_columns = [ terms_embedding_column ]\n",
        "\n",
        "print(feature_columns)\n",
        "\n",
        "my_optimizer = tf.train.AdagradOptimizer(learning_rate=0.1)\n",
        "my_optimizer = tf.contrib.estimator.clip_gradients_by_norm(my_optimizer, 5.0)\n",
        "\n",
        "classifier = tf.estimator.DNNClassifier(\n",
        "  feature_columns=feature_columns,\n",
        "  hidden_units=[20,20],\n",
        "  optimizer=my_optimizer\n",
        ")\n",
        "\n",
        "\n",
        "classifier.train(\n",
        "  input_fn=lambda: _input_fn([train_path]),\n",
        "  steps=1000)\n",
        "\n",
        "evaluation_metrics = classifier.evaluate(\n",
        "  input_fn=lambda: _input_fn([train_path]),\n",
        "  steps=1000)\n",
        "print(\"Training set metrics:\")\n",
        "for m in evaluation_metrics:\n",
        "  print(m, evaluation_metrics[m])\n",
        "print(\"---\")\n",
        "\n",
        "evaluation_metrics = classifier.evaluate(\n",
        "  input_fn=lambda: _input_fn([test_path]),\n",
        "  steps=1000)\n",
        "\n",
        "print(\"Test set metrics:\")\n",
        "for m in evaluation_metrics:\n",
        "  print(m, evaluation_metrics[m])\n",
        "print(\"---\")"
      ],
      "execution_count": 8,
      "outputs": [
        {
          "output_type": "stream",
          "text": [
            "[EmbeddingColumn(categorical_column=VocabularyListCategoricalColumn(key='terms', vocabulary_list=('bad', 'great', 'best', 'worst', 'fun', 'beautiful', 'excellent', 'poor', 'boring', 'awful', 'terrible', 'definitely', 'perfect', 'liked', 'worse', 'waste', 'entertaining', 'loved', 'unfortunately', 'amazing', 'enjoyed', 'favorite', 'horrible', 'brilliant', 'highly', 'simple', 'annoying', 'today', 'hilarious', 'enjoyable', 'dull', 'fantastic', 'poorly', 'fails', 'disappointing', 'disappointment', 'not', 'him', 'her', 'good', 'time', '?', '.', '!', 'movie', 'film', 'action', 'comedy', 'drama', 'family'), dtype=tf.string, default_value=-1, num_oov_buckets=0), dimension=2, combiner='mean', initializer=<tensorflow.python.ops.init_ops.TruncatedNormal object at 0x7fa864f16750>, ckpt_to_load_from=None, tensor_name_in_ckpt=None, max_norm=None, trainable=True)]\n",
            "WARNING: Entity <bound method _DNNModel.call of <tensorflow_estimator.python.estimator.canned.dnn._DNNModel object at 0x7fa864ed6d50>> could not be transformed and will be executed as-is. Please report this to the AutoGraph team. When filing the bug, set the verbosity to 10 (on Linux, `export AUTOGRAPH_VERBOSITY=10`) and attach the full output. Cause: module 'gast' has no attribute 'Num'\n",
            "WARNING: Entity <bound method _DNNModel.call of <tensorflow_estimator.python.estimator.canned.dnn._DNNModel object at 0x7fa864026e10>> could not be transformed and will be executed as-is. Please report this to the AutoGraph team. When filing the bug, set the verbosity to 10 (on Linux, `export AUTOGRAPH_VERBOSITY=10`) and attach the full output. Cause: module 'gast' has no attribute 'Num'\n",
            "Training set metrics:\n",
            "accuracy 0.77944\n",
            "accuracy_baseline 0.5\n",
            "auc 0.8677895\n",
            "auc_precision_recall 0.85748696\n",
            "average_loss 0.46289325\n",
            "label/mean 0.5\n",
            "loss 11.572331\n",
            "precision 0.81198645\n",
            "prediction/mean 0.45203885\n",
            "recall 0.72728\n",
            "global_step 1000\n",
            "---\n",
            "WARNING: Entity <bound method _DNNModel.call of <tensorflow_estimator.python.estimator.canned.dnn._DNNModel object at 0x7fa863e59450>> could not be transformed and will be executed as-is. Please report this to the AutoGraph team. When filing the bug, set the verbosity to 10 (on Linux, `export AUTOGRAPH_VERBOSITY=10`) and attach the full output. Cause: module 'gast' has no attribute 'Num'\n",
            "Test set metrics:\n",
            "accuracy 0.77424\n",
            "accuracy_baseline 0.5\n",
            "auc 0.8667605\n",
            "auc_precision_recall 0.8556104\n",
            "average_loss 0.46482038\n",
            "label/mean 0.5\n",
            "loss 11.62051\n",
            "precision 0.8082734\n",
            "prediction/mean 0.45156977\n",
            "recall 0.71904\n",
            "global_step 1000\n",
            "---\n"
          ],
          "name": "stdout"
        }
      ]
    },
    {
      "cell_type": "code",
      "metadata": {
        "colab": {
          "base_uri": "https://localhost:8080/",
          "height": 302
        },
        "id": "O-VuXGm8uDFz",
        "outputId": "b46cb8b6-382d-4f4a-894d-b983f79319ca"
      },
      "source": [
        "# voir la représentation vectorielle continue dont on a effectué l'apprentissage\n",
        "\n",
        "import numpy as np\n",
        "import matplotlib.pyplot as plt\n",
        "\n",
        "\n",
        "print(classifier.get_variable_names())\n",
        "\n",
        "embedding_matrix = classifier.get_variable_value('dnn/input_from_feature_columns/input_layer/terms_embedding/embedding_weights')\n",
        "\n",
        "for term_index in range(len(informative_terms)):\n",
        "  # Create a one-hot encoding for our term.  It has 0s everywhere, except for\n",
        "  # a single 1 in the coordinate that corresponds to that term.\n",
        "  term_vector = np.zeros(len(informative_terms))\n",
        "  term_vector[term_index] = 1\n",
        "  # We'll now project that one-hot vector into the embedding space.\n",
        "  embedding_xy = np.matmul(term_vector, embedding_matrix)\n",
        "  plt.text(embedding_xy[0],\n",
        "           embedding_xy[1],\n",
        "           informative_terms[term_index])\n",
        "\n",
        "# Do a little setup to make sure the plot displays nicely.\n",
        "plt.rcParams[\"figure.figsize\"] = (15, 15)\n",
        "plt.xlim(1.2 * embedding_matrix.min(), 1.2 * embedding_matrix.max())\n",
        "plt.ylim(1.2 * embedding_matrix.min(), 1.2 * embedding_matrix.max())\n",
        "plt.show() "
      ],
      "execution_count": 9,
      "outputs": [
        {
          "output_type": "stream",
          "text": [
            "['dnn/hiddenlayer_0/bias', 'dnn/hiddenlayer_0/bias/t_0/Adagrad', 'dnn/hiddenlayer_0/kernel', 'dnn/hiddenlayer_0/kernel/t_0/Adagrad', 'dnn/hiddenlayer_1/bias', 'dnn/hiddenlayer_1/bias/t_0/Adagrad', 'dnn/hiddenlayer_1/kernel', 'dnn/hiddenlayer_1/kernel/t_0/Adagrad', 'dnn/input_from_feature_columns/input_layer/terms_embedding/embedding_weights', 'dnn/input_from_feature_columns/input_layer/terms_embedding/embedding_weights/t_0/Adagrad', 'dnn/logits/bias', 'dnn/logits/bias/t_0/Adagrad', 'dnn/logits/kernel', 'dnn/logits/kernel/t_0/Adagrad', 'global_step']\n"
          ],
          "name": "stdout"
        },
        {
          "output_type": "display_data",
          "data": {
            "image/png": "[encoded data removed]",
            "text/plain": [
              "<Figure size 432x288 with 1 Axes>"
            ]
          },
          "metadata": {
            "tags": [],
            "needs_background": "light"
          }
        }
      ]
    },
    {
      "cell_type": "markdown",
      "metadata": {
        "id": "YPR_RhmLuaT3"
      },
      "source": [
        "On distingue bien deux groupes de classification "
      ]
    },
    {
      "cell_type": "code",
      "metadata": {
        "colab": {
          "base_uri": "https://localhost:8080/"
        },
        "id": "s6CgP-zIupwl",
        "outputId": "105bd52e-d684-4b44-ff1e-a4cd3cec021b"
      },
      "source": [
        "# On va essayer avec un vocabulaire beaucoup plus grand \n",
        "\n",
        "# vocabulary file\n",
        "terms_url = 'https://download.mlcc.google.com/mledu-datasets/sparse-data-embedding/terms.txt'\n",
        "terms_path = tf.keras.utils.get_file(terms_url.split('/')[-1], terms_url)"
      ],
      "execution_count": 10,
      "outputs": [
        {
          "output_type": "stream",
          "text": [
            "Downloading data from https://download.mlcc.google.com/mledu-datasets/sparse-data-embedding/terms.txt\n",
            "253952/253538 [==============================] - 0s 0us/step\n"
          ],
          "name": "stdout"
        }
      ]
    },
    {
      "cell_type": "code",
      "metadata": {
        "colab": {
          "base_uri": "https://localhost:8080/"
        },
        "id": "rGGhyZF4vDv_",
        "outputId": "12067848-3dd4-4011-8f71-84677f8e3c02"
      },
      "source": [
        "# Comme le fichier est un fichier txt et pas une fichier tfrecord , il faut l'ouvrir et le convertir de manière différente \n",
        "\n",
        "informative_terms = None\n",
        "with io.open(terms_path, 'r', encoding='utf8') as f:\n",
        "  # Convert it to a set first to remove duplicates.\n",
        "  informative_terms = list(set(f.read().split()))\n",
        "\n",
        "# On defini le type de features\n",
        "terms_feature_column = tf.feature_column.categorical_column_with_vocabulary_list(key=\"terms\", \n",
        "                                                                                 vocabulary_list=informative_terms)\n",
        "\n",
        "# On en fait un vecteur continu\n",
        "terms_embedding_column = tf.feature_column.embedding_column(terms_feature_column, dimension=2)\n",
        "feature_columns = [ terms_embedding_column ]\n",
        "\n",
        "# On defini le modèle :\n",
        "\n",
        "my_optimizer = tf.train.AdamOptimizer(learning_rate=0.1)\n",
        "my_optimizer = tf.contrib.estimator.clip_gradients_by_norm(my_optimizer, 5.0)\n",
        "\n",
        "classifier = tf.estimator.DNNClassifier(\n",
        "  feature_columns=feature_columns,\n",
        "  hidden_units=[10,10],\n",
        "  optimizer=my_optimizer\n",
        ")\n",
        "\n",
        "# On entraine:\n",
        "\n",
        "classifier.train(\n",
        "  input_fn=lambda: _input_fn([train_path]),\n",
        "  steps=1000)\n",
        "\n",
        "# On teste le modèle :\n",
        "evaluation_metrics = classifier.evaluate(\n",
        "  input_fn=lambda: _input_fn([train_path]),\n",
        "  steps=1000)\n",
        "print(\"Training set metrics:\")\n",
        "for m in evaluation_metrics:\n",
        "  print(m, evaluation_metrics[m])\n",
        "print(\"---\")\n",
        "\n",
        "evaluation_metrics = classifier.evaluate(\n",
        "  input_fn=lambda: _input_fn([test_path]),\n",
        "  steps=1000)\n",
        "\n",
        "print(\"Test set metrics:\")\n",
        "for m in evaluation_metrics:\n",
        "  print(m, evaluation_metrics[m])\n",
        "print(\"---\")\n"
      ],
      "execution_count": 11,
      "outputs": [
        {
          "output_type": "stream",
          "text": [
            "WARNING: Entity <bound method _DNNModel.call of <tensorflow_estimator.python.estimator.canned.dnn._DNNModel object at 0x7fa8655c0290>> could not be transformed and will be executed as-is. Please report this to the AutoGraph team. When filing the bug, set the verbosity to 10 (on Linux, `export AUTOGRAPH_VERBOSITY=10`) and attach the full output. Cause: module 'gast' has no attribute 'Num'\n",
            "WARNING: Entity <bound method _DNNModel.call of <tensorflow_estimator.python.estimator.canned.dnn._DNNModel object at 0x7fa86379dd90>> could not be transformed and will be executed as-is. Please report this to the AutoGraph team. When filing the bug, set the verbosity to 10 (on Linux, `export AUTOGRAPH_VERBOSITY=10`) and attach the full output. Cause: module 'gast' has no attribute 'Num'\n",
            "Training set metrics:\n",
            "accuracy 0.9548\n",
            "accuracy_baseline 0.5\n",
            "auc 0.98604435\n",
            "auc_precision_recall 0.9834449\n",
            "average_loss 0.14650296\n",
            "label/mean 0.5\n",
            "loss 3.662574\n",
            "precision 0.9435169\n",
            "prediction/mean 0.50942826\n",
            "recall 0.96752\n",
            "global_step 1000\n",
            "---\n",
            "WARNING: Entity <bound method _DNNModel.call of <tensorflow_estimator.python.estimator.canned.dnn._DNNModel object at 0x7fa8634eeb10>> could not be transformed and will be executed as-is. Please report this to the AutoGraph team. When filing the bug, set the verbosity to 10 (on Linux, `export AUTOGRAPH_VERBOSITY=10`) and attach the full output. Cause: module 'gast' has no attribute 'Num'\n",
            "Test set metrics:\n",
            "accuracy 0.87704\n",
            "accuracy_baseline 0.5\n",
            "auc 0.945531\n",
            "auc_precision_recall 0.94311917\n",
            "average_loss 0.30142602\n",
            "label/mean 0.5\n",
            "loss 7.5356503\n",
            "precision 0.86866397\n",
            "prediction/mean 0.50554407\n",
            "recall 0.8884\n",
            "global_step 1000\n",
            "---\n"
          ],
          "name": "stdout"
        }
      ]
    }
  ]
}